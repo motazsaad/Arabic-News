{
  "nbformat": 4,
  "nbformat_minor": 0,
  "metadata": {
    "colab": {
      "name": "read json news.ipynb",
      "provenance": [],
      "collapsed_sections": [],
      "authorship_tag": "ABX9TyNNXRI/uB08gKsSfoQQ8Qm+",
      "include_colab_link": true
    },
    "kernelspec": {
      "name": "python3",
      "display_name": "Python 3"
    },
    "language_info": {
      "name": "python"
    }
  },
  "cells": [
    {
      "cell_type": "markdown",
      "metadata": {
        "id": "view-in-github",
        "colab_type": "text"
      },
      "source": [
        "<a href=\"https://colab.research.google.com/github/motazsaad/Arabic-News/blob/master/read_json_news.ipynb\" target=\"_parent\"><img src=\"https://colab.research.google.com/assets/colab-badge.svg\" alt=\"Open In Colab\"/></a>"
      ]
    },
    {
      "cell_type": "code",
      "metadata": {
        "colab": {
          "base_uri": "https://localhost:8080/"
        },
        "id": "fi58M4IP3rMX",
        "outputId": "4d3eda50-c9cc-4f27-b7f9-a0ec72caf460"
      },
      "source": [
        "! git clone https://github.com/motazsaad/Arabic-News.git"
      ],
      "execution_count": 1,
      "outputs": [
        {
          "output_type": "stream",
          "text": [
            "Cloning into 'Arabic-News'...\n",
            "remote: Enumerating objects: 347661, done.\u001b[K\n",
            "remote: Counting objects: 100% (3/3), done.\u001b[K\n",
            "remote: Compressing objects: 100% (3/3), done.\u001b[K\n",
            "remote: Total 347661 (delta 0), reused 0 (delta 0), pack-reused 347658\u001b[K\n",
            "Receiving objects: 100% (347661/347661), 2.81 GiB | 30.53 MiB/s, done.\n",
            "Resolving deltas: 100% (172/172), done.\n",
            "Checking out files: 100% (108/108), done.\n"
          ],
          "name": "stdout"
        }
      ]
    },
    {
      "cell_type": "code",
      "metadata": {
        "colab": {
          "base_uri": "https://localhost:8080/"
        },
        "id": "boqNTZAJVzda",
        "outputId": "b0653956-4e24-4a1b-d24a-85f5ad276bf6"
      },
      "source": [
        "import os \n",
        "corpora_path = '/content/Arabic-News/corpora/'\n",
        "json_files = sorted([ corpora_path + file for file in os.listdir(corpora_path) if file.endswith('.json') ])\n",
        "print(json_files)\n",
        "print(len(json_files))"
      ],
      "execution_count": 2,
      "outputs": [
        {
          "output_type": "stream",
          "text": [
            "['/content/Arabic-News/corpora/aljazeera.net_20190419_000.json', '/content/Arabic-News/corpora/aljazeera.net_20190419_001.json', '/content/Arabic-News/corpora/aljazeera.net_20190419_002.json', '/content/Arabic-News/corpora/aljazeera.net_20190419_003.json', '/content/Arabic-News/corpora/aljazeera.net_20190419_004.json', '/content/Arabic-News/corpora/aljazeera.net_20190419_005.json', '/content/Arabic-News/corpora/aljazeera.net_20190419_006.json', '/content/Arabic-News/corpora/arabic.cnn.com_20190419_000.json', '/content/Arabic-News/corpora/arabic.cnn.com_20190419_001.json', '/content/Arabic-News/corpora/arabic.euronews.com_20190409_000.json', '/content/Arabic-News/corpora/arabic.euronews.com_20190409_001.json', '/content/Arabic-News/corpora/arabic.euronews.com_20190409_002.json', '/content/Arabic-News/corpora/arabic.rt.com_20190419_000.json', '/content/Arabic-News/corpora/arabic.rt.com_20190419_001.json', '/content/Arabic-News/corpora/arabic.rt.com_20190419_002.json', '/content/Arabic-News/corpora/arabic.rt.com_20190419_003.json', '/content/Arabic-News/corpora/arabic.rt.com_20190419_004.json', '/content/Arabic-News/corpora/arabic.rt.com_20190419_005.json', '/content/Arabic-News/corpora/arabic.rt.com_20190419_006.json', '/content/Arabic-News/corpora/arabic.rt.com_20190419_007.json', '/content/Arabic-News/corpora/arabic.rt.com_20190419_008.json', '/content/Arabic-News/corpora/arabic.rt.com_20190419_009.json', '/content/Arabic-News/corpora/arabic.rt.com_20190419_010.json', '/content/Arabic-News/corpora/arabic.rt.com_20190419_011.json', '/content/Arabic-News/corpora/arabic.rt.com_20190419_012.json', '/content/Arabic-News/corpora/arabic.rt.com_20190419_013.json', '/content/Arabic-News/corpora/arabic.rt.com_20190419_014.json', '/content/Arabic-News/corpora/arabic.rt.com_20190419_015.json', '/content/Arabic-News/corpora/arabic.rt.com_20190419_016.json', '/content/Arabic-News/corpora/arabic.rt.com_20190419_017.json', '/content/Arabic-News/corpora/arabic.rt.com_20190419_018.json', '/content/Arabic-News/corpora/bbc.com_20190409_000.json', '/content/Arabic-News/corpora/bbc.com_20190409_001.json', '/content/Arabic-News/corpora/bbc.com_20190409_002.json', '/content/Arabic-News/corpora/bbc.com_20190409_003.json', '/content/Arabic-News/corpora/bbc.com_20190409_004.json', '/content/Arabic-News/corpora/bbc.com_20190409_005.json']\n",
            "37\n"
          ],
          "name": "stdout"
        }
      ]
    },
    {
      "cell_type": "code",
      "metadata": {
        "colab": {
          "base_uri": "https://localhost:8080/"
        },
        "id": "2WsjAXFUWN0B",
        "outputId": "e39c1156-65ee-4c42-8ec5-e1cf1b007d21"
      },
      "source": [
        "import json \n",
        "from json import JSONDecodeError\n",
        "\n",
        "json_items = []\n",
        "for file in json_files:\n",
        "  try: \n",
        "    print('processing:', file)\n",
        "    infile = open(file, encoding='utf-8').read()\n",
        "    parts = infile.split(\"}{\")\n",
        "    for part in parts:\n",
        "      if part[0] != '{':\n",
        "        part = \"{\" + part \n",
        "      if part[-1] != '}':\n",
        "        part = part + \"}\"\n",
        "      json_items.append(json.loads(part))\n",
        "  except JSONDecodeError:\n",
        "     print('JSONDecodeError file:', file)\n",
        "print('done')"
      ],
      "execution_count": 3,
      "outputs": [
        {
          "output_type": "stream",
          "text": [
            "processing: /content/Arabic-News/corpora/aljazeera.net_20190419_000.json\n",
            "processing: /content/Arabic-News/corpora/aljazeera.net_20190419_001.json\n",
            "processing: /content/Arabic-News/corpora/aljazeera.net_20190419_002.json\n",
            "processing: /content/Arabic-News/corpora/aljazeera.net_20190419_003.json\n",
            "processing: /content/Arabic-News/corpora/aljazeera.net_20190419_004.json\n",
            "processing: /content/Arabic-News/corpora/aljazeera.net_20190419_005.json\n",
            "processing: /content/Arabic-News/corpora/aljazeera.net_20190419_006.json\n",
            "processing: /content/Arabic-News/corpora/arabic.cnn.com_20190419_000.json\n",
            "JSONDecodeError file: /content/Arabic-News/corpora/arabic.cnn.com_20190419_000.json\n",
            "processing: /content/Arabic-News/corpora/arabic.cnn.com_20190419_001.json\n",
            "processing: /content/Arabic-News/corpora/arabic.euronews.com_20190409_000.json\n",
            "processing: /content/Arabic-News/corpora/arabic.euronews.com_20190409_001.json\n",
            "processing: /content/Arabic-News/corpora/arabic.euronews.com_20190409_002.json\n",
            "processing: /content/Arabic-News/corpora/arabic.rt.com_20190419_000.json\n",
            "processing: /content/Arabic-News/corpora/arabic.rt.com_20190419_001.json\n",
            "processing: /content/Arabic-News/corpora/arabic.rt.com_20190419_002.json\n",
            "processing: /content/Arabic-News/corpora/arabic.rt.com_20190419_003.json\n",
            "processing: /content/Arabic-News/corpora/arabic.rt.com_20190419_004.json\n",
            "processing: /content/Arabic-News/corpora/arabic.rt.com_20190419_005.json\n",
            "processing: /content/Arabic-News/corpora/arabic.rt.com_20190419_006.json\n",
            "processing: /content/Arabic-News/corpora/arabic.rt.com_20190419_007.json\n",
            "processing: /content/Arabic-News/corpora/arabic.rt.com_20190419_008.json\n",
            "processing: /content/Arabic-News/corpora/arabic.rt.com_20190419_009.json\n",
            "processing: /content/Arabic-News/corpora/arabic.rt.com_20190419_010.json\n",
            "processing: /content/Arabic-News/corpora/arabic.rt.com_20190419_011.json\n",
            "processing: /content/Arabic-News/corpora/arabic.rt.com_20190419_012.json\n",
            "processing: /content/Arabic-News/corpora/arabic.rt.com_20190419_013.json\n",
            "processing: /content/Arabic-News/corpora/arabic.rt.com_20190419_014.json\n",
            "processing: /content/Arabic-News/corpora/arabic.rt.com_20190419_015.json\n",
            "processing: /content/Arabic-News/corpora/arabic.rt.com_20190419_016.json\n",
            "processing: /content/Arabic-News/corpora/arabic.rt.com_20190419_017.json\n",
            "processing: /content/Arabic-News/corpora/arabic.rt.com_20190419_018.json\n",
            "processing: /content/Arabic-News/corpora/bbc.com_20190409_000.json\n",
            "processing: /content/Arabic-News/corpora/bbc.com_20190409_001.json\n",
            "processing: /content/Arabic-News/corpora/bbc.com_20190409_002.json\n",
            "processing: /content/Arabic-News/corpora/bbc.com_20190409_003.json\n",
            "processing: /content/Arabic-News/corpora/bbc.com_20190409_004.json\n",
            "processing: /content/Arabic-News/corpora/bbc.com_20190409_005.json\n",
            "done\n"
          ],
          "name": "stdout"
        }
      ]
    },
    {
      "cell_type": "code",
      "metadata": {
        "colab": {
          "base_uri": "https://localhost:8080/",
          "height": 700
        },
        "id": "ZFTnaZogW5LB",
        "outputId": "bb74b663-0686-4728-d458-6d8af4e923f0"
      },
      "source": [
        "import pandas as pd \n",
        "df =  pd.DataFrame(json_items)\n",
        "df.head()"
      ],
      "execution_count": 57,
      "outputs": [
        {
          "output_type": "execute_result",
          "data": {
            "text/html": [
              "<div>\n",
              "<style scoped>\n",
              "    .dataframe tbody tr th:only-of-type {\n",
              "        vertical-align: middle;\n",
              "    }\n",
              "\n",
              "    .dataframe tbody tr th {\n",
              "        vertical-align: top;\n",
              "    }\n",
              "\n",
              "    .dataframe thead th {\n",
              "        text-align: right;\n",
              "    }\n",
              "</style>\n",
              "<table border=\"1\" class=\"dataframe\">\n",
              "  <thead>\n",
              "    <tr style=\"text-align: right;\">\n",
              "      <th></th>\n",
              "      <th>title</th>\n",
              "      <th>description</th>\n",
              "      <th>date_modify</th>\n",
              "      <th>date_download</th>\n",
              "      <th>date_publish</th>\n",
              "      <th>language</th>\n",
              "      <th>source_domain</th>\n",
              "      <th>localpath</th>\n",
              "      <th>url</th>\n",
              "      <th>text</th>\n",
              "      <th>filename</th>\n",
              "      <th>image_url</th>\n",
              "      <th>authors</th>\n",
              "      <th>title_page</th>\n",
              "      <th>title_rss</th>\n",
              "    </tr>\n",
              "  </thead>\n",
              "  <tbody>\n",
              "    <tr>\n",
              "      <th>0</th>\n",
              "      <td>قطر تشتري حصة بشركة شل</td>\n",
              "      <td>أكدت متحدثة باسم شركة شل أن قطر اشترت حصة بالش...</td>\n",
              "      <td>2019-04-20 12:09:57</td>\n",
              "      <td>2019-04-20 12:09:57</td>\n",
              "      <td>2012-05-11 00:00:00</td>\n",
              "      <td>ar</td>\n",
              "      <td>aljazeera.net</td>\n",
              "      <td>/home/motaz/news-please-repo//data/2019/04/19/...</td>\n",
              "      <td>https://www.aljazeera.net/news/ebusiness/2012/...</td>\n",
              "      <td>الصندوق السيادي القطري يستهدف الاستثمار في كبر...</td>\n",
              "      <td>news_ebusiness_2012_5_11_%D9%82%D8%B7%D8%B1-%D...</td>\n",
              "      <td>https://www.aljazeera.net/file/GetImageCustom/...</td>\n",
              "      <td>[]</td>\n",
              "      <td>قطر تشتري حصة بشركة شل</td>\n",
              "      <td>NULL</td>\n",
              "    </tr>\n",
              "    <tr>\n",
              "      <th>1</th>\n",
              "      <td>مجلس الأمن يبحث طلب فلسطين</td>\n",
              "      <td>يبحث الخميس مجلس الأمن الدولي مشروع تقرير بشأن...</td>\n",
              "      <td>2019-04-20 13:04:30</td>\n",
              "      <td>2019-04-20 13:04:30</td>\n",
              "      <td>2011-11-03 00:00:00</td>\n",
              "      <td>ar</td>\n",
              "      <td>aljazeera.net</td>\n",
              "      <td>/home/motaz/news-please-repo//data/2019/04/19/...</td>\n",
              "      <td>https://www.aljazeera.net/news/arabic/2011/11/...</td>\n",
              "      <td>عباس قدم طلب عضوية بلاده في الأمم المتحدة في 2...</td>\n",
              "      <td>news_arabic_2011_11_3_%D9%85%D8%AC%D9%84%D8%B3...</td>\n",
              "      <td>https://www.aljazeera.net/file/GetImageCustom/...</td>\n",
              "      <td>[]</td>\n",
              "      <td>مجلس الأمن يبحث طلب فلسطين</td>\n",
              "      <td>NULL</td>\n",
              "    </tr>\n",
              "    <tr>\n",
              "      <th>2</th>\n",
              "      <td>بلاتر: العقوبة ضد السودان عادلة</td>\n",
              "      <td>قال رئيس الاتحاد الدولي لكرة القدم (الفيفا) جو...</td>\n",
              "      <td>2019-04-20 10:11:42</td>\n",
              "      <td>2019-04-20 10:11:42</td>\n",
              "      <td>2012-10-16 00:00:00</td>\n",
              "      <td>ar</td>\n",
              "      <td>aljazeera.net</td>\n",
              "      <td>/home/motaz/news-please-repo//data/2019/04/19/...</td>\n",
              "      <td>https://www.aljazeera.net/news/sport/2012/10/1...</td>\n",
              "      <td>جوزيف بلاتر خلال لقائه الصحفيين في جنيف (الجزي...</td>\n",
              "      <td>news_sport_2012_10_16_%D8%A8%D9%84%D8%A7%D8%AA...</td>\n",
              "      <td>https://www.aljazeera.net/Views/Shared/shared/...</td>\n",
              "      <td>[]</td>\n",
              "      <td>بلاتر: العقوبة ضد السودان عادلة</td>\n",
              "      <td>NULL</td>\n",
              "    </tr>\n",
              "    <tr>\n",
              "      <th>3</th>\n",
              "      <td>العراق يلغي صفقة سلاح مع روسيا</td>\n",
              "      <td>قال متحدث باسم رئيس الوزراء العراقي نوري المال...</td>\n",
              "      <td>2019-04-20 10:28:06</td>\n",
              "      <td>2019-04-20 10:28:06</td>\n",
              "      <td>2012-11-10 00:00:00</td>\n",
              "      <td>ar</td>\n",
              "      <td>aljazeera.net</td>\n",
              "      <td>/home/motaz/news-please-repo//data/2019/04/19/...</td>\n",
              "      <td>https://www.aljazeera.net/news/arabic/2012/11/...</td>\n",
              "      <td>وزير الدفاع العراقي بالوكالة سعدون الدليمي قال...</td>\n",
              "      <td>news_arabic_2012_11_10_%D8%A7%D9%84%D8%B9%D8%B...</td>\n",
              "      <td>https://www.aljazeera.net/Views/Shared/shared/...</td>\n",
              "      <td>[]</td>\n",
              "      <td>العراق يلغي صفقة سلاح مع روسيا</td>\n",
              "      <td>NULL</td>\n",
              "    </tr>\n",
              "    <tr>\n",
              "      <th>4</th>\n",
              "      <td>جدل بمصر حول قرارات مرسي</td>\n",
              "      <td>انعكست حالة الاستقطاب التي عانت منها مصر في ال...</td>\n",
              "      <td>2019-04-20 12:46:51</td>\n",
              "      <td>2019-04-20 12:46:51</td>\n",
              "      <td>2012-11-22 00:00:00</td>\n",
              "      <td>ar</td>\n",
              "      <td>aljazeera.net</td>\n",
              "      <td>/home/motaz/news-please-repo//data/2019/04/19/...</td>\n",
              "      <td>https://www.aljazeera.net/news/reportsandinter...</td>\n",
              "      <td>مؤيدون لقرارات الرئيس مرسي يتظاهرون أمام دار ا...</td>\n",
              "      <td>news_reportsandinterviews_2012_11_22_%D8%AC%D8...</td>\n",
              "      <td>https://www.aljazeera.net/Views/Shared/shared/...</td>\n",
              "      <td>[]</td>\n",
              "      <td>جدل بمصر حول قرارات مرسي</td>\n",
              "      <td>NULL</td>\n",
              "    </tr>\n",
              "  </tbody>\n",
              "</table>\n",
              "</div>"
            ],
            "text/plain": [
              "                             title  ... title_rss\n",
              "0           قطر تشتري حصة بشركة شل  ...      NULL\n",
              "1       مجلس الأمن يبحث طلب فلسطين  ...      NULL\n",
              "2  بلاتر: العقوبة ضد السودان عادلة  ...      NULL\n",
              "3   العراق يلغي صفقة سلاح مع روسيا  ...      NULL\n",
              "4         جدل بمصر حول قرارات مرسي  ...      NULL\n",
              "\n",
              "[5 rows x 15 columns]"
            ]
          },
          "metadata": {
            "tags": []
          },
          "execution_count": 57
        }
      ]
    },
    {
      "cell_type": "code",
      "metadata": {
        "colab": {
          "base_uri": "https://localhost:8080/"
        },
        "id": "gf0tAESkWwqN",
        "outputId": "adf5c8cd-74e0-49da-f84d-cedc0caddd18"
      },
      "source": [
        "df.info()"
      ],
      "execution_count": 58,
      "outputs": [
        {
          "output_type": "stream",
          "text": [
            "<class 'pandas.core.frame.DataFrame'>\n",
            "RangeIndex: 600313 entries, 0 to 600312\n",
            "Data columns (total 15 columns):\n",
            " #   Column         Non-Null Count   Dtype \n",
            "---  ------         --------------   ----- \n",
            " 0   title          600313 non-null  object\n",
            " 1   description    596553 non-null  object\n",
            " 2   date_modify    600313 non-null  object\n",
            " 3   date_download  600313 non-null  object\n",
            " 4   date_publish   597703 non-null  object\n",
            " 5   language       600313 non-null  object\n",
            " 6   source_domain  600313 non-null  object\n",
            " 7   localpath      600313 non-null  object\n",
            " 8   url            600313 non-null  object\n",
            " 9   text           600313 non-null  object\n",
            " 10  filename       600313 non-null  object\n",
            " 11  image_url      600313 non-null  object\n",
            " 12  authors        600313 non-null  object\n",
            " 13  title_page     600313 non-null  object\n",
            " 14  title_rss      600313 non-null  object\n",
            "dtypes: object(15)\n",
            "memory usage: 68.7+ MB\n"
          ],
          "name": "stdout"
        }
      ]
    },
    {
      "cell_type": "code",
      "metadata": {
        "colab": {
          "base_uri": "https://localhost:8080/",
          "height": 204
        },
        "id": "rAkam8bFZQto",
        "outputId": "bb7fe890-500e-48d7-c462-3ebc93153c01"
      },
      "source": [
        "df['source_domain'].value_counts().to_frame()"
      ],
      "execution_count": 59,
      "outputs": [
        {
          "output_type": "execute_result",
          "data": {
            "text/html": [
              "<div>\n",
              "<style scoped>\n",
              "    .dataframe tbody tr th:only-of-type {\n",
              "        vertical-align: middle;\n",
              "    }\n",
              "\n",
              "    .dataframe tbody tr th {\n",
              "        vertical-align: top;\n",
              "    }\n",
              "\n",
              "    .dataframe thead th {\n",
              "        text-align: right;\n",
              "    }\n",
              "</style>\n",
              "<table border=\"1\" class=\"dataframe\">\n",
              "  <thead>\n",
              "    <tr style=\"text-align: right;\">\n",
              "      <th></th>\n",
              "      <th>source_domain</th>\n",
              "    </tr>\n",
              "  </thead>\n",
              "  <tbody>\n",
              "    <tr>\n",
              "      <th>arabic.rt.com</th>\n",
              "      <td>334268</td>\n",
              "    </tr>\n",
              "    <tr>\n",
              "      <th>aljazeera.net</th>\n",
              "      <td>109141</td>\n",
              "    </tr>\n",
              "    <tr>\n",
              "      <th>bbc.com</th>\n",
              "      <td>94734</td>\n",
              "    </tr>\n",
              "    <tr>\n",
              "      <th>arabic.euronews.com</th>\n",
              "      <td>46079</td>\n",
              "    </tr>\n",
              "    <tr>\n",
              "      <th>arabic.cnn.com</th>\n",
              "      <td>16091</td>\n",
              "    </tr>\n",
              "  </tbody>\n",
              "</table>\n",
              "</div>"
            ],
            "text/plain": [
              "                     source_domain\n",
              "arabic.rt.com               334268\n",
              "aljazeera.net               109141\n",
              "bbc.com                      94734\n",
              "arabic.euronews.com          46079\n",
              "arabic.cnn.com               16091"
            ]
          },
          "metadata": {
            "tags": []
          },
          "execution_count": 59
        }
      ]
    },
    {
      "cell_type": "code",
      "metadata": {
        "colab": {
          "base_uri": "https://localhost:8080/"
        },
        "id": "0eMyskSzcBVZ",
        "outputId": "194cb281-8115-427a-8f21-c5359bdb6edf"
      },
      "source": [
        "df.columns "
      ],
      "execution_count": 61,
      "outputs": [
        {
          "output_type": "execute_result",
          "data": {
            "text/plain": [
              "Index(['title', 'description', 'date_modify', 'date_download', 'date_publish',\n",
              "       'language', 'source_domain', 'localpath', 'url', 'text', 'filename',\n",
              "       'image_url', 'authors', 'title_page', 'title_rss'],\n",
              "      dtype='object')"
            ]
          },
          "metadata": {
            "tags": []
          },
          "execution_count": 61
        }
      ]
    },
    {
      "cell_type": "code",
      "metadata": {
        "colab": {
          "base_uri": "https://localhost:8080/"
        },
        "id": "Mqt4YQX_SrKt",
        "outputId": "ac9130a8-23da-41ab-a677-69bedd460047"
      },
      "source": [
        "df.title_rss.value_counts()"
      ],
      "execution_count": 62,
      "outputs": [
        {
          "output_type": "execute_result",
          "data": {
            "text/plain": [
              "NULL    600313\n",
              "Name: title_rss, dtype: int64"
            ]
          },
          "metadata": {
            "tags": []
          },
          "execution_count": 62
        }
      ]
    },
    {
      "cell_type": "code",
      "metadata": {
        "colab": {
          "base_uri": "https://localhost:8080/"
        },
        "id": "mIBklUQlalxH",
        "outputId": "77afabc7-5dcb-4653-dd0e-35fdbc2596ac"
      },
      "source": [
        "df.language.value_counts()"
      ],
      "execution_count": 63,
      "outputs": [
        {
          "output_type": "execute_result",
          "data": {
            "text/plain": [
              "ar    600313\n",
              "Name: language, dtype: int64"
            ]
          },
          "metadata": {
            "tags": []
          },
          "execution_count": 63
        }
      ]
    },
    {
      "cell_type": "code",
      "metadata": {
        "colab": {
          "base_uri": "https://localhost:8080/"
        },
        "id": "xVrPXG4uSvsl",
        "outputId": "3cfa60eb-33d4-4927-e61e-217613bd8f0e"
      },
      "source": [
        "df.drop(columns=['title_rss', 'date_modify', 'language', 'filename', 'localpath'], inplace=True)\n",
        "df.info()"
      ],
      "execution_count": 64,
      "outputs": [
        {
          "output_type": "stream",
          "text": [
            "<class 'pandas.core.frame.DataFrame'>\n",
            "RangeIndex: 600313 entries, 0 to 600312\n",
            "Data columns (total 10 columns):\n",
            " #   Column         Non-Null Count   Dtype \n",
            "---  ------         --------------   ----- \n",
            " 0   title          600313 non-null  object\n",
            " 1   description    596553 non-null  object\n",
            " 2   date_download  600313 non-null  object\n",
            " 3   date_publish   597703 non-null  object\n",
            " 4   source_domain  600313 non-null  object\n",
            " 5   url            600313 non-null  object\n",
            " 6   text           600313 non-null  object\n",
            " 7   image_url      600313 non-null  object\n",
            " 8   authors        600313 non-null  object\n",
            " 9   title_page     600313 non-null  object\n",
            "dtypes: object(10)\n",
            "memory usage: 45.8+ MB\n"
          ],
          "name": "stdout"
        }
      ]
    },
    {
      "cell_type": "code",
      "metadata": {
        "colab": {
          "base_uri": "https://localhost:8080/",
          "height": 700
        },
        "id": "asiuvEaMW-qt",
        "outputId": "dd85a2d5-5c7a-4f8b-9f40-8b82cd1aca8a"
      },
      "source": [
        "import numpy as np \n",
        "def short_date(d):\n",
        "  if d:\n",
        "    return d[:10]\n",
        "  else: \n",
        "    return np.nan\n",
        "df.date_download = df.date_download.apply(short_date)\n",
        "df.date_publish = df.date_publish.apply(short_date)\n",
        "df.head()"
      ],
      "execution_count": 65,
      "outputs": [
        {
          "output_type": "execute_result",
          "data": {
            "text/html": [
              "<div>\n",
              "<style scoped>\n",
              "    .dataframe tbody tr th:only-of-type {\n",
              "        vertical-align: middle;\n",
              "    }\n",
              "\n",
              "    .dataframe tbody tr th {\n",
              "        vertical-align: top;\n",
              "    }\n",
              "\n",
              "    .dataframe thead th {\n",
              "        text-align: right;\n",
              "    }\n",
              "</style>\n",
              "<table border=\"1\" class=\"dataframe\">\n",
              "  <thead>\n",
              "    <tr style=\"text-align: right;\">\n",
              "      <th></th>\n",
              "      <th>title</th>\n",
              "      <th>description</th>\n",
              "      <th>date_download</th>\n",
              "      <th>date_publish</th>\n",
              "      <th>source_domain</th>\n",
              "      <th>url</th>\n",
              "      <th>text</th>\n",
              "      <th>image_url</th>\n",
              "      <th>authors</th>\n",
              "      <th>title_page</th>\n",
              "    </tr>\n",
              "  </thead>\n",
              "  <tbody>\n",
              "    <tr>\n",
              "      <th>0</th>\n",
              "      <td>قطر تشتري حصة بشركة شل</td>\n",
              "      <td>أكدت متحدثة باسم شركة شل أن قطر اشترت حصة بالش...</td>\n",
              "      <td>2019-04-20</td>\n",
              "      <td>2012-05-11</td>\n",
              "      <td>aljazeera.net</td>\n",
              "      <td>https://www.aljazeera.net/news/ebusiness/2012/...</td>\n",
              "      <td>الصندوق السيادي القطري يستهدف الاستثمار في كبر...</td>\n",
              "      <td>https://www.aljazeera.net/file/GetImageCustom/...</td>\n",
              "      <td>[]</td>\n",
              "      <td>قطر تشتري حصة بشركة شل</td>\n",
              "    </tr>\n",
              "    <tr>\n",
              "      <th>1</th>\n",
              "      <td>مجلس الأمن يبحث طلب فلسطين</td>\n",
              "      <td>يبحث الخميس مجلس الأمن الدولي مشروع تقرير بشأن...</td>\n",
              "      <td>2019-04-20</td>\n",
              "      <td>2011-11-03</td>\n",
              "      <td>aljazeera.net</td>\n",
              "      <td>https://www.aljazeera.net/news/arabic/2011/11/...</td>\n",
              "      <td>عباس قدم طلب عضوية بلاده في الأمم المتحدة في 2...</td>\n",
              "      <td>https://www.aljazeera.net/file/GetImageCustom/...</td>\n",
              "      <td>[]</td>\n",
              "      <td>مجلس الأمن يبحث طلب فلسطين</td>\n",
              "    </tr>\n",
              "    <tr>\n",
              "      <th>2</th>\n",
              "      <td>بلاتر: العقوبة ضد السودان عادلة</td>\n",
              "      <td>قال رئيس الاتحاد الدولي لكرة القدم (الفيفا) جو...</td>\n",
              "      <td>2019-04-20</td>\n",
              "      <td>2012-10-16</td>\n",
              "      <td>aljazeera.net</td>\n",
              "      <td>https://www.aljazeera.net/news/sport/2012/10/1...</td>\n",
              "      <td>جوزيف بلاتر خلال لقائه الصحفيين في جنيف (الجزي...</td>\n",
              "      <td>https://www.aljazeera.net/Views/Shared/shared/...</td>\n",
              "      <td>[]</td>\n",
              "      <td>بلاتر: العقوبة ضد السودان عادلة</td>\n",
              "    </tr>\n",
              "    <tr>\n",
              "      <th>3</th>\n",
              "      <td>العراق يلغي صفقة سلاح مع روسيا</td>\n",
              "      <td>قال متحدث باسم رئيس الوزراء العراقي نوري المال...</td>\n",
              "      <td>2019-04-20</td>\n",
              "      <td>2012-11-10</td>\n",
              "      <td>aljazeera.net</td>\n",
              "      <td>https://www.aljazeera.net/news/arabic/2012/11/...</td>\n",
              "      <td>وزير الدفاع العراقي بالوكالة سعدون الدليمي قال...</td>\n",
              "      <td>https://www.aljazeera.net/Views/Shared/shared/...</td>\n",
              "      <td>[]</td>\n",
              "      <td>العراق يلغي صفقة سلاح مع روسيا</td>\n",
              "    </tr>\n",
              "    <tr>\n",
              "      <th>4</th>\n",
              "      <td>جدل بمصر حول قرارات مرسي</td>\n",
              "      <td>انعكست حالة الاستقطاب التي عانت منها مصر في ال...</td>\n",
              "      <td>2019-04-20</td>\n",
              "      <td>2012-11-22</td>\n",
              "      <td>aljazeera.net</td>\n",
              "      <td>https://www.aljazeera.net/news/reportsandinter...</td>\n",
              "      <td>مؤيدون لقرارات الرئيس مرسي يتظاهرون أمام دار ا...</td>\n",
              "      <td>https://www.aljazeera.net/Views/Shared/shared/...</td>\n",
              "      <td>[]</td>\n",
              "      <td>جدل بمصر حول قرارات مرسي</td>\n",
              "    </tr>\n",
              "  </tbody>\n",
              "</table>\n",
              "</div>"
            ],
            "text/plain": [
              "                             title  ...                       title_page\n",
              "0           قطر تشتري حصة بشركة شل  ...           قطر تشتري حصة بشركة شل\n",
              "1       مجلس الأمن يبحث طلب فلسطين  ...       مجلس الأمن يبحث طلب فلسطين\n",
              "2  بلاتر: العقوبة ضد السودان عادلة  ...  بلاتر: العقوبة ضد السودان عادلة\n",
              "3   العراق يلغي صفقة سلاح مع روسيا  ...   العراق يلغي صفقة سلاح مع روسيا\n",
              "4         جدل بمصر حول قرارات مرسي  ...         جدل بمصر حول قرارات مرسي\n",
              "\n",
              "[5 rows x 10 columns]"
            ]
          },
          "metadata": {
            "tags": []
          },
          "execution_count": 65
        }
      ]
    },
    {
      "cell_type": "code",
      "metadata": {
        "colab": {
          "base_uri": "https://localhost:8080/"
        },
        "id": "miq9TqLOZBS-",
        "outputId": "1dfa79d7-9b95-4046-9b42-e5ba05b4af6d"
      },
      "source": [
        "df.info()"
      ],
      "execution_count": 66,
      "outputs": [
        {
          "output_type": "stream",
          "text": [
            "<class 'pandas.core.frame.DataFrame'>\n",
            "RangeIndex: 600313 entries, 0 to 600312\n",
            "Data columns (total 10 columns):\n",
            " #   Column         Non-Null Count   Dtype \n",
            "---  ------         --------------   ----- \n",
            " 0   title          600313 non-null  object\n",
            " 1   description    596553 non-null  object\n",
            " 2   date_download  600313 non-null  object\n",
            " 3   date_publish   597703 non-null  object\n",
            " 4   source_domain  600313 non-null  object\n",
            " 5   url            600313 non-null  object\n",
            " 6   text           600313 non-null  object\n",
            " 7   image_url      600313 non-null  object\n",
            " 8   authors        600313 non-null  object\n",
            " 9   title_page     600313 non-null  object\n",
            "dtypes: object(10)\n",
            "memory usage: 45.8+ MB\n"
          ],
          "name": "stdout"
        }
      ]
    },
    {
      "cell_type": "code",
      "metadata": {
        "colab": {
          "base_uri": "https://localhost:8080/",
          "height": 1000
        },
        "id": "0XJ-b2oVZGZF",
        "outputId": "34b987f0-7b1b-47a6-e0b7-5bc2e437c925"
      },
      "source": [
        "df"
      ],
      "execution_count": 67,
      "outputs": [
        {
          "output_type": "execute_result",
          "data": {
            "text/html": [
              "<div>\n",
              "<style scoped>\n",
              "    .dataframe tbody tr th:only-of-type {\n",
              "        vertical-align: middle;\n",
              "    }\n",
              "\n",
              "    .dataframe tbody tr th {\n",
              "        vertical-align: top;\n",
              "    }\n",
              "\n",
              "    .dataframe thead th {\n",
              "        text-align: right;\n",
              "    }\n",
              "</style>\n",
              "<table border=\"1\" class=\"dataframe\">\n",
              "  <thead>\n",
              "    <tr style=\"text-align: right;\">\n",
              "      <th></th>\n",
              "      <th>title</th>\n",
              "      <th>description</th>\n",
              "      <th>date_download</th>\n",
              "      <th>date_publish</th>\n",
              "      <th>source_domain</th>\n",
              "      <th>url</th>\n",
              "      <th>text</th>\n",
              "      <th>image_url</th>\n",
              "      <th>authors</th>\n",
              "      <th>title_page</th>\n",
              "    </tr>\n",
              "  </thead>\n",
              "  <tbody>\n",
              "    <tr>\n",
              "      <th>0</th>\n",
              "      <td>قطر تشتري حصة بشركة شل</td>\n",
              "      <td>أكدت متحدثة باسم شركة شل أن قطر اشترت حصة بالش...</td>\n",
              "      <td>2019-04-20</td>\n",
              "      <td>2012-05-11</td>\n",
              "      <td>aljazeera.net</td>\n",
              "      <td>https://www.aljazeera.net/news/ebusiness/2012/...</td>\n",
              "      <td>الصندوق السيادي القطري يستهدف الاستثمار في كبر...</td>\n",
              "      <td>https://www.aljazeera.net/file/GetImageCustom/...</td>\n",
              "      <td>[]</td>\n",
              "      <td>قطر تشتري حصة بشركة شل</td>\n",
              "    </tr>\n",
              "    <tr>\n",
              "      <th>1</th>\n",
              "      <td>مجلس الأمن يبحث طلب فلسطين</td>\n",
              "      <td>يبحث الخميس مجلس الأمن الدولي مشروع تقرير بشأن...</td>\n",
              "      <td>2019-04-20</td>\n",
              "      <td>2011-11-03</td>\n",
              "      <td>aljazeera.net</td>\n",
              "      <td>https://www.aljazeera.net/news/arabic/2011/11/...</td>\n",
              "      <td>عباس قدم طلب عضوية بلاده في الأمم المتحدة في 2...</td>\n",
              "      <td>https://www.aljazeera.net/file/GetImageCustom/...</td>\n",
              "      <td>[]</td>\n",
              "      <td>مجلس الأمن يبحث طلب فلسطين</td>\n",
              "    </tr>\n",
              "    <tr>\n",
              "      <th>2</th>\n",
              "      <td>بلاتر: العقوبة ضد السودان عادلة</td>\n",
              "      <td>قال رئيس الاتحاد الدولي لكرة القدم (الفيفا) جو...</td>\n",
              "      <td>2019-04-20</td>\n",
              "      <td>2012-10-16</td>\n",
              "      <td>aljazeera.net</td>\n",
              "      <td>https://www.aljazeera.net/news/sport/2012/10/1...</td>\n",
              "      <td>جوزيف بلاتر خلال لقائه الصحفيين في جنيف (الجزي...</td>\n",
              "      <td>https://www.aljazeera.net/Views/Shared/shared/...</td>\n",
              "      <td>[]</td>\n",
              "      <td>بلاتر: العقوبة ضد السودان عادلة</td>\n",
              "    </tr>\n",
              "    <tr>\n",
              "      <th>3</th>\n",
              "      <td>العراق يلغي صفقة سلاح مع روسيا</td>\n",
              "      <td>قال متحدث باسم رئيس الوزراء العراقي نوري المال...</td>\n",
              "      <td>2019-04-20</td>\n",
              "      <td>2012-11-10</td>\n",
              "      <td>aljazeera.net</td>\n",
              "      <td>https://www.aljazeera.net/news/arabic/2012/11/...</td>\n",
              "      <td>وزير الدفاع العراقي بالوكالة سعدون الدليمي قال...</td>\n",
              "      <td>https://www.aljazeera.net/Views/Shared/shared/...</td>\n",
              "      <td>[]</td>\n",
              "      <td>العراق يلغي صفقة سلاح مع روسيا</td>\n",
              "    </tr>\n",
              "    <tr>\n",
              "      <th>4</th>\n",
              "      <td>جدل بمصر حول قرارات مرسي</td>\n",
              "      <td>انعكست حالة الاستقطاب التي عانت منها مصر في ال...</td>\n",
              "      <td>2019-04-20</td>\n",
              "      <td>2012-11-22</td>\n",
              "      <td>aljazeera.net</td>\n",
              "      <td>https://www.aljazeera.net/news/reportsandinter...</td>\n",
              "      <td>مؤيدون لقرارات الرئيس مرسي يتظاهرون أمام دار ا...</td>\n",
              "      <td>https://www.aljazeera.net/Views/Shared/shared/...</td>\n",
              "      <td>[]</td>\n",
              "      <td>جدل بمصر حول قرارات مرسي</td>\n",
              "    </tr>\n",
              "    <tr>\n",
              "      <th>...</th>\n",
              "      <td>...</td>\n",
              "      <td>...</td>\n",
              "      <td>...</td>\n",
              "      <td>...</td>\n",
              "      <td>...</td>\n",
              "      <td>...</td>\n",
              "      <td>...</td>\n",
              "      <td>...</td>\n",
              "      <td>...</td>\n",
              "      <td>...</td>\n",
              "    </tr>\n",
              "    <tr>\n",
              "      <th>600308</th>\n",
              "      <td>رجل يحاول تهريب بيض صقور نادرة قيمتها 100 ألف ...</td>\n",
              "      <td>الحكم على رجل بالسجن لمدة 30 شهرا بعد أن اعترف...</td>\n",
              "      <td>2019-04-09</td>\n",
              "      <td>2010-08-20</td>\n",
              "      <td>bbc.com</td>\n",
              "      <td>http://www.bbc.com/arabic/worldnews/2010/08/10...</td>\n",
              "      <td>Image caption الرجل سرق البيض من عش وكان يعتزم...</td>\n",
              "      <td>https://ichef.bbci.co.uk/news/ws/1024/branded_...</td>\n",
              "      <td>[]</td>\n",
              "      <td>رجل يحاول تهريب بيض صقور نادرة قيمتها 100 ألف ...</td>\n",
              "    </tr>\n",
              "    <tr>\n",
              "      <th>600309</th>\n",
              "      <td>تقارير: \"البحرية الأمريكية\" نفذت هجوما ضد حركة...</td>\n",
              "      <td>أكد مصدر حكومي امريكي أن قوات تابعة للبحرية ال...</td>\n",
              "      <td>2019-04-09</td>\n",
              "      <td>2013-10-06</td>\n",
              "      <td>bbc.com</td>\n",
              "      <td>http://www.bbc.com/arabic/middleeast/2013/10/1...</td>\n",
              "      <td>Image caption تقارير أمريكية تشير إلى أن الهجو...</td>\n",
              "      <td>https://ichef.bbci.co.uk/news/ws/1024/branded_...</td>\n",
              "      <td>[]</td>\n",
              "      <td>تقارير: \"البحرية الأمريكية\" نفذت هجوما ضد حركة...</td>\n",
              "    </tr>\n",
              "    <tr>\n",
              "      <th>600310</th>\n",
              "      <td>بريطانيا: دعوة لدعم العلاج النفسي لقدامي المحا...</td>\n",
              "      <td>مؤسسة خيرية تدعو لزيادة تمويل العلاج النفسي لق...</td>\n",
              "      <td>2019-04-09</td>\n",
              "      <td>2015-12-06</td>\n",
              "      <td>bbc.com</td>\n",
              "      <td>http://www.bbc.com/arabic/scienceandtech/2015/...</td>\n",
              "      <td>مصدر الصورة Getty Image caption تعالج مؤسسة ست...</td>\n",
              "      <td>https://ichef.bbci.co.uk/news/ws/1024/branded_...</td>\n",
              "      <td>[]</td>\n",
              "      <td>بريطانيا: دعوة لدعم العلاج النفسي لقدامي المحا...</td>\n",
              "    </tr>\n",
              "    <tr>\n",
              "      <th>600311</th>\n",
              "      <td>أفراد من الحرس الجمهوري اليمني يتظاهرون احتجاج...</td>\n",
              "      <td>أفراد من الحرس الجمهوري اليمني يتظاهرون في شور...</td>\n",
              "      <td>2019-04-10</td>\n",
              "      <td>2012-08-09</td>\n",
              "      <td>bbc.com</td>\n",
              "      <td>http://www.bbc.com/arabic/middleeast/2012/08/1...</td>\n",
              "      <td>مصدر الصورة BBC World Service Image caption ال...</td>\n",
              "      <td>https://ichef.bbci.co.uk/news/ws/1024/branded_...</td>\n",
              "      <td>[]</td>\n",
              "      <td>أفراد من الحرس الجمهوري اليمني يتظاهرون احتجا...</td>\n",
              "    </tr>\n",
              "    <tr>\n",
              "      <th>600312</th>\n",
              "      <td>أردوغان يرد بغضب على وصف البابا قتل الأرمن في ...</td>\n",
              "      <td>الرئيس التركي رجب طيب أردوغان يرد بغضب على ماق...</td>\n",
              "      <td>2019-04-09</td>\n",
              "      <td>2015-04-14</td>\n",
              "      <td>bbc.com</td>\n",
              "      <td>http://www.bbc.com/arabic/middleeast/2015/04/1...</td>\n",
              "      <td>مصدر الصورة AP Image caption استخدم أردوغان له...</td>\n",
              "      <td>https://ichef.bbci.co.uk/news/ws/1024/branded_...</td>\n",
              "      <td>[]</td>\n",
              "      <td>أردوغان يرد بغضب على وصف البابا قتل الأرمن في ...</td>\n",
              "    </tr>\n",
              "  </tbody>\n",
              "</table>\n",
              "<p>600313 rows × 10 columns</p>\n",
              "</div>"
            ],
            "text/plain": [
              "                                                    title  ...                                         title_page\n",
              "0                                  قطر تشتري حصة بشركة شل  ...                             قطر تشتري حصة بشركة شل\n",
              "1                              مجلس الأمن يبحث طلب فلسطين  ...                         مجلس الأمن يبحث طلب فلسطين\n",
              "2                         بلاتر: العقوبة ضد السودان عادلة  ...                    بلاتر: العقوبة ضد السودان عادلة\n",
              "3                          العراق يلغي صفقة سلاح مع روسيا  ...                     العراق يلغي صفقة سلاح مع روسيا\n",
              "4                                جدل بمصر حول قرارات مرسي  ...                           جدل بمصر حول قرارات مرسي\n",
              "...                                                   ...  ...                                                ...\n",
              "600308  رجل يحاول تهريب بيض صقور نادرة قيمتها 100 ألف ...  ...  رجل يحاول تهريب بيض صقور نادرة قيمتها 100 ألف ...\n",
              "600309  تقارير: \"البحرية الأمريكية\" نفذت هجوما ضد حركة...  ...  تقارير: \"البحرية الأمريكية\" نفذت هجوما ضد حركة...\n",
              "600310  بريطانيا: دعوة لدعم العلاج النفسي لقدامي المحا...  ...  بريطانيا: دعوة لدعم العلاج النفسي لقدامي المحا...\n",
              "600311  أفراد من الحرس الجمهوري اليمني يتظاهرون احتجاج...  ...   أفراد من الحرس الجمهوري اليمني يتظاهرون احتجا...\n",
              "600312  أردوغان يرد بغضب على وصف البابا قتل الأرمن في ...  ...  أردوغان يرد بغضب على وصف البابا قتل الأرمن في ...\n",
              "\n",
              "[600313 rows x 10 columns]"
            ]
          },
          "metadata": {
            "tags": []
          },
          "execution_count": 67
        }
      ]
    },
    {
      "cell_type": "code",
      "metadata": {
        "id": "50z6Rno3bUmu"
      },
      "source": [
        "df.to_csv('Arabic_news.csv', index=False)"
      ],
      "execution_count": 68,
      "outputs": []
    },
    {
      "cell_type": "code",
      "metadata": {
        "colab": {
          "base_uri": "https://localhost:8080/"
        },
        "id": "ng898iJebdwM",
        "outputId": "d67023e6-755b-437f-b4cd-e4e1ac13165a"
      },
      "source": [
        "sources = df['source_domain'].unique().tolist()\n",
        "sources"
      ],
      "execution_count": 70,
      "outputs": [
        {
          "output_type": "execute_result",
          "data": {
            "text/plain": [
              "['aljazeera.net',\n",
              " 'arabic.cnn.com',\n",
              " 'arabic.euronews.com',\n",
              " 'arabic.rt.com',\n",
              " 'bbc.com']"
            ]
          },
          "metadata": {
            "tags": []
          },
          "execution_count": 70
        }
      ]
    },
    {
      "cell_type": "code",
      "metadata": {
        "id": "zg0tobMAbmau"
      },
      "source": [
        "for source in sources:\n",
        "  src_df = df[df['source_domain'] == source]\n",
        "  src_df.to_csv(source + '_Arabic_news.csv', index=False)"
      ],
      "execution_count": 71,
      "outputs": []
    }
  ]
}