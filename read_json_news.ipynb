{
  "nbformat": 4,
  "nbformat_minor": 0,
  "metadata": {
    "colab": {
      "name": "read json news.ipynb",
      "provenance": [],
      "collapsed_sections": []
    },
    "kernelspec": {
      "name": "python3",
      "display_name": "Python 3"
    },
    "language_info": {
      "name": "python"
    }
  },
  "cells": [
    {
      "cell_type": "code",
      "metadata": {
        "colab": {
          "base_uri": "https://localhost:8080/"
        },
        "id": "fi58M4IP3rMX",
        "outputId": "4d0dcbab-45e3-4b50-f426-aaf9b7e25260"
      },
      "source": [
        "! git clone https://github.com/motazsaad/Arabic-News.git"
      ],
      "execution_count": 1,
      "outputs": [
        {
          "output_type": "stream",
          "text": [
            "Cloning into 'Arabic-News'...\n",
            "remote: Enumerating objects: 347658, done.\u001b[K\n",
            "remote: Total 347658 (delta 0), reused 0 (delta 0), pack-reused 347658\u001b[K\n",
            "Receiving objects: 100% (347658/347658), 2.81 GiB | 25.77 MiB/s, done.\n",
            "Resolving deltas: 100% (172/172), done.\n",
            "Checking out files: 100% (107/107), done.\n"
          ],
          "name": "stdout"
        }
      ]
    },
    {
      "cell_type": "code",
      "metadata": {
        "colab": {
          "base_uri": "https://localhost:8080/"
        },
        "id": "boqNTZAJVzda",
        "outputId": "0e9ba997-daab-403b-abaf-463308413263"
      },
      "source": [
        "import os \n",
        "corpora_path = '/content/Arabic-News/corpora/'\n",
        "json_files = sorted([ corpora_path + file for file in os.listdir(corpora_path) if file.endswith('.json') ])\n",
        "print(json_files)\n",
        "print(len(json_files))"
      ],
      "execution_count": 79,
      "outputs": [
        {
          "output_type": "stream",
          "text": [
            "['/content/Arabic-News/corpora/aljazeera.net_20190419_000.json', '/content/Arabic-News/corpora/aljazeera.net_20190419_001.json', '/content/Arabic-News/corpora/aljazeera.net_20190419_002.json', '/content/Arabic-News/corpora/aljazeera.net_20190419_003.json', '/content/Arabic-News/corpora/aljazeera.net_20190419_004.json', '/content/Arabic-News/corpora/aljazeera.net_20190419_005.json', '/content/Arabic-News/corpora/aljazeera.net_20190419_006.json', '/content/Arabic-News/corpora/arabic.cnn.com_20190419_000.json', '/content/Arabic-News/corpora/arabic.cnn.com_20190419_001.json', '/content/Arabic-News/corpora/arabic.euronews.com_20190409_000.json', '/content/Arabic-News/corpora/arabic.euronews.com_20190409_001.json', '/content/Arabic-News/corpora/arabic.euronews.com_20190409_002.json', '/content/Arabic-News/corpora/arabic.rt.com_20190419_000.json', '/content/Arabic-News/corpora/arabic.rt.com_20190419_001.json', '/content/Arabic-News/corpora/arabic.rt.com_20190419_002.json', '/content/Arabic-News/corpora/arabic.rt.com_20190419_003.json', '/content/Arabic-News/corpora/arabic.rt.com_20190419_004.json', '/content/Arabic-News/corpora/arabic.rt.com_20190419_005.json', '/content/Arabic-News/corpora/arabic.rt.com_20190419_006.json', '/content/Arabic-News/corpora/arabic.rt.com_20190419_007.json', '/content/Arabic-News/corpora/arabic.rt.com_20190419_008.json', '/content/Arabic-News/corpora/arabic.rt.com_20190419_009.json', '/content/Arabic-News/corpora/arabic.rt.com_20190419_010.json', '/content/Arabic-News/corpora/arabic.rt.com_20190419_011.json', '/content/Arabic-News/corpora/arabic.rt.com_20190419_012.json', '/content/Arabic-News/corpora/arabic.rt.com_20190419_013.json', '/content/Arabic-News/corpora/arabic.rt.com_20190419_014.json', '/content/Arabic-News/corpora/arabic.rt.com_20190419_015.json', '/content/Arabic-News/corpora/arabic.rt.com_20190419_016.json', '/content/Arabic-News/corpora/arabic.rt.com_20190419_017.json', '/content/Arabic-News/corpora/arabic.rt.com_20190419_018.json', '/content/Arabic-News/corpora/bbc.com_20190409_000.json', '/content/Arabic-News/corpora/bbc.com_20190409_001.json', '/content/Arabic-News/corpora/bbc.com_20190409_002.json', '/content/Arabic-News/corpora/bbc.com_20190409_003.json', '/content/Arabic-News/corpora/bbc.com_20190409_004.json', '/content/Arabic-News/corpora/bbc.com_20190409_005.json']\n",
            "37\n"
          ],
          "name": "stdout"
        }
      ]
    },
    {
      "cell_type": "code",
      "metadata": {
        "colab": {
          "base_uri": "https://localhost:8080/"
        },
        "id": "2WsjAXFUWN0B",
        "outputId": "658383b3-fc5e-4a8f-806d-43625e9015a0"
      },
      "source": [
        "import json \n",
        "from json import JSONDecodeError\n",
        "\n",
        "json_items = []\n",
        "for file in json_files:\n",
        "  try: \n",
        "    print('processing:', file)\n",
        "    infile = open(file, encoding='utf-8').read()\n",
        "    parts = infile.split(\"}{\")\n",
        "    for part in parts:\n",
        "      if part[0] != '{':\n",
        "        part = \"{\" + part \n",
        "      if part[-1] != '}':\n",
        "        part = part + \"}\"\n",
        "      json_items.append(json.loads(part))\n",
        "  except JSONDecodeError:\n",
        "     print('JSONDecodeError file:', file)\n",
        "print('done')"
      ],
      "execution_count": 83,
      "outputs": [
        {
          "output_type": "stream",
          "text": [
            "processing: /content/Arabic-News/corpora/aljazeera.net_20190419_000.json\n",
            "processing: /content/Arabic-News/corpora/aljazeera.net_20190419_001.json\n",
            "processing: /content/Arabic-News/corpora/aljazeera.net_20190419_002.json\n",
            "processing: /content/Arabic-News/corpora/aljazeera.net_20190419_003.json\n",
            "processing: /content/Arabic-News/corpora/aljazeera.net_20190419_004.json\n",
            "processing: /content/Arabic-News/corpora/aljazeera.net_20190419_005.json\n",
            "processing: /content/Arabic-News/corpora/aljazeera.net_20190419_006.json\n",
            "processing: /content/Arabic-News/corpora/arabic.cnn.com_20190419_000.json\n",
            "JSONDecodeError file: /content/Arabic-News/corpora/arabic.cnn.com_20190419_000.json\n",
            "processing: /content/Arabic-News/corpora/arabic.cnn.com_20190419_001.json\n",
            "processing: /content/Arabic-News/corpora/arabic.euronews.com_20190409_000.json\n",
            "processing: /content/Arabic-News/corpora/arabic.euronews.com_20190409_001.json\n",
            "processing: /content/Arabic-News/corpora/arabic.euronews.com_20190409_002.json\n",
            "processing: /content/Arabic-News/corpora/arabic.rt.com_20190419_000.json\n",
            "processing: /content/Arabic-News/corpora/arabic.rt.com_20190419_001.json\n",
            "processing: /content/Arabic-News/corpora/arabic.rt.com_20190419_002.json\n",
            "processing: /content/Arabic-News/corpora/arabic.rt.com_20190419_003.json\n",
            "processing: /content/Arabic-News/corpora/arabic.rt.com_20190419_004.json\n",
            "processing: /content/Arabic-News/corpora/arabic.rt.com_20190419_005.json\n",
            "processing: /content/Arabic-News/corpora/arabic.rt.com_20190419_006.json\n",
            "processing: /content/Arabic-News/corpora/arabic.rt.com_20190419_007.json\n",
            "processing: /content/Arabic-News/corpora/arabic.rt.com_20190419_008.json\n",
            "processing: /content/Arabic-News/corpora/arabic.rt.com_20190419_009.json\n",
            "processing: /content/Arabic-News/corpora/arabic.rt.com_20190419_010.json\n",
            "processing: /content/Arabic-News/corpora/arabic.rt.com_20190419_011.json\n",
            "processing: /content/Arabic-News/corpora/arabic.rt.com_20190419_012.json\n",
            "processing: /content/Arabic-News/corpora/arabic.rt.com_20190419_013.json\n",
            "processing: /content/Arabic-News/corpora/arabic.rt.com_20190419_014.json\n",
            "processing: /content/Arabic-News/corpora/arabic.rt.com_20190419_015.json\n",
            "processing: /content/Arabic-News/corpora/arabic.rt.com_20190419_016.json\n",
            "processing: /content/Arabic-News/corpora/arabic.rt.com_20190419_017.json\n",
            "processing: /content/Arabic-News/corpora/arabic.rt.com_20190419_018.json\n",
            "processing: /content/Arabic-News/corpora/bbc.com_20190409_000.json\n",
            "processing: /content/Arabic-News/corpora/bbc.com_20190409_001.json\n",
            "processing: /content/Arabic-News/corpora/bbc.com_20190409_002.json\n",
            "processing: /content/Arabic-News/corpora/bbc.com_20190409_003.json\n",
            "processing: /content/Arabic-News/corpora/bbc.com_20190409_004.json\n",
            "processing: /content/Arabic-News/corpora/bbc.com_20190409_005.json\n",
            "done\n"
          ],
          "name": "stdout"
        }
      ]
    },
    {
      "cell_type": "code",
      "metadata": {
        "colab": {
          "base_uri": "https://localhost:8080/",
          "height": 700
        },
        "id": "ZFTnaZogW5LB",
        "outputId": "12604173-a510-4d26-b7f3-7a6b601afd05"
      },
      "source": [
        "import pandas as pd \n",
        "df =  pd.DataFrame(json_items)\n",
        "df.head()"
      ],
      "execution_count": 86,
      "outputs": [
        {
          "output_type": "execute_result",
          "data": {
            "text/html": [
              "<div>\n",
              "<style scoped>\n",
              "    .dataframe tbody tr th:only-of-type {\n",
              "        vertical-align: middle;\n",
              "    }\n",
              "\n",
              "    .dataframe tbody tr th {\n",
              "        vertical-align: top;\n",
              "    }\n",
              "\n",
              "    .dataframe thead th {\n",
              "        text-align: right;\n",
              "    }\n",
              "</style>\n",
              "<table border=\"1\" class=\"dataframe\">\n",
              "  <thead>\n",
              "    <tr style=\"text-align: right;\">\n",
              "      <th></th>\n",
              "      <th>title</th>\n",
              "      <th>description</th>\n",
              "      <th>date_modify</th>\n",
              "      <th>date_download</th>\n",
              "      <th>date_publish</th>\n",
              "      <th>language</th>\n",
              "      <th>source_domain</th>\n",
              "      <th>localpath</th>\n",
              "      <th>url</th>\n",
              "      <th>text</th>\n",
              "      <th>filename</th>\n",
              "      <th>image_url</th>\n",
              "      <th>authors</th>\n",
              "      <th>title_page</th>\n",
              "      <th>title_rss</th>\n",
              "    </tr>\n",
              "  </thead>\n",
              "  <tbody>\n",
              "    <tr>\n",
              "      <th>0</th>\n",
              "      <td>قطر تشتري حصة بشركة شل</td>\n",
              "      <td>أكدت متحدثة باسم شركة شل أن قطر اشترت حصة بالش...</td>\n",
              "      <td>2019-04-20 12:09:57</td>\n",
              "      <td>2019-04-20 12:09:57</td>\n",
              "      <td>2012-05-11 00:00:00</td>\n",
              "      <td>ar</td>\n",
              "      <td>aljazeera.net</td>\n",
              "      <td>/home/motaz/news-please-repo//data/2019/04/19/...</td>\n",
              "      <td>https://www.aljazeera.net/news/ebusiness/2012/...</td>\n",
              "      <td>الصندوق السيادي القطري يستهدف الاستثمار في كبر...</td>\n",
              "      <td>news_ebusiness_2012_5_11_%D9%82%D8%B7%D8%B1-%D...</td>\n",
              "      <td>https://www.aljazeera.net/file/GetImageCustom/...</td>\n",
              "      <td>[]</td>\n",
              "      <td>قطر تشتري حصة بشركة شل</td>\n",
              "      <td>NULL</td>\n",
              "    </tr>\n",
              "    <tr>\n",
              "      <th>1</th>\n",
              "      <td>مجلس الأمن يبحث طلب فلسطين</td>\n",
              "      <td>يبحث الخميس مجلس الأمن الدولي مشروع تقرير بشأن...</td>\n",
              "      <td>2019-04-20 13:04:30</td>\n",
              "      <td>2019-04-20 13:04:30</td>\n",
              "      <td>2011-11-03 00:00:00</td>\n",
              "      <td>ar</td>\n",
              "      <td>aljazeera.net</td>\n",
              "      <td>/home/motaz/news-please-repo//data/2019/04/19/...</td>\n",
              "      <td>https://www.aljazeera.net/news/arabic/2011/11/...</td>\n",
              "      <td>عباس قدم طلب عضوية بلاده في الأمم المتحدة في 2...</td>\n",
              "      <td>news_arabic_2011_11_3_%D9%85%D8%AC%D9%84%D8%B3...</td>\n",
              "      <td>https://www.aljazeera.net/file/GetImageCustom/...</td>\n",
              "      <td>[]</td>\n",
              "      <td>مجلس الأمن يبحث طلب فلسطين</td>\n",
              "      <td>NULL</td>\n",
              "    </tr>\n",
              "    <tr>\n",
              "      <th>2</th>\n",
              "      <td>بلاتر: العقوبة ضد السودان عادلة</td>\n",
              "      <td>قال رئيس الاتحاد الدولي لكرة القدم (الفيفا) جو...</td>\n",
              "      <td>2019-04-20 10:11:42</td>\n",
              "      <td>2019-04-20 10:11:42</td>\n",
              "      <td>2012-10-16 00:00:00</td>\n",
              "      <td>ar</td>\n",
              "      <td>aljazeera.net</td>\n",
              "      <td>/home/motaz/news-please-repo//data/2019/04/19/...</td>\n",
              "      <td>https://www.aljazeera.net/news/sport/2012/10/1...</td>\n",
              "      <td>جوزيف بلاتر خلال لقائه الصحفيين في جنيف (الجزي...</td>\n",
              "      <td>news_sport_2012_10_16_%D8%A8%D9%84%D8%A7%D8%AA...</td>\n",
              "      <td>https://www.aljazeera.net/Views/Shared/shared/...</td>\n",
              "      <td>[]</td>\n",
              "      <td>بلاتر: العقوبة ضد السودان عادلة</td>\n",
              "      <td>NULL</td>\n",
              "    </tr>\n",
              "    <tr>\n",
              "      <th>3</th>\n",
              "      <td>العراق يلغي صفقة سلاح مع روسيا</td>\n",
              "      <td>قال متحدث باسم رئيس الوزراء العراقي نوري المال...</td>\n",
              "      <td>2019-04-20 10:28:06</td>\n",
              "      <td>2019-04-20 10:28:06</td>\n",
              "      <td>2012-11-10 00:00:00</td>\n",
              "      <td>ar</td>\n",
              "      <td>aljazeera.net</td>\n",
              "      <td>/home/motaz/news-please-repo//data/2019/04/19/...</td>\n",
              "      <td>https://www.aljazeera.net/news/arabic/2012/11/...</td>\n",
              "      <td>وزير الدفاع العراقي بالوكالة سعدون الدليمي قال...</td>\n",
              "      <td>news_arabic_2012_11_10_%D8%A7%D9%84%D8%B9%D8%B...</td>\n",
              "      <td>https://www.aljazeera.net/Views/Shared/shared/...</td>\n",
              "      <td>[]</td>\n",
              "      <td>العراق يلغي صفقة سلاح مع روسيا</td>\n",
              "      <td>NULL</td>\n",
              "    </tr>\n",
              "    <tr>\n",
              "      <th>4</th>\n",
              "      <td>جدل بمصر حول قرارات مرسي</td>\n",
              "      <td>انعكست حالة الاستقطاب التي عانت منها مصر في ال...</td>\n",
              "      <td>2019-04-20 12:46:51</td>\n",
              "      <td>2019-04-20 12:46:51</td>\n",
              "      <td>2012-11-22 00:00:00</td>\n",
              "      <td>ar</td>\n",
              "      <td>aljazeera.net</td>\n",
              "      <td>/home/motaz/news-please-repo//data/2019/04/19/...</td>\n",
              "      <td>https://www.aljazeera.net/news/reportsandinter...</td>\n",
              "      <td>مؤيدون لقرارات الرئيس مرسي يتظاهرون أمام دار ا...</td>\n",
              "      <td>news_reportsandinterviews_2012_11_22_%D8%AC%D8...</td>\n",
              "      <td>https://www.aljazeera.net/Views/Shared/shared/...</td>\n",
              "      <td>[]</td>\n",
              "      <td>جدل بمصر حول قرارات مرسي</td>\n",
              "      <td>NULL</td>\n",
              "    </tr>\n",
              "  </tbody>\n",
              "</table>\n",
              "</div>"
            ],
            "text/plain": [
              "                             title  ... title_rss\n",
              "0           قطر تشتري حصة بشركة شل  ...      NULL\n",
              "1       مجلس الأمن يبحث طلب فلسطين  ...      NULL\n",
              "2  بلاتر: العقوبة ضد السودان عادلة  ...      NULL\n",
              "3   العراق يلغي صفقة سلاح مع روسيا  ...      NULL\n",
              "4         جدل بمصر حول قرارات مرسي  ...      NULL\n",
              "\n",
              "[5 rows x 15 columns]"
            ]
          },
          "metadata": {
            "tags": []
          },
          "execution_count": 86
        }
      ]
    },
    {
      "cell_type": "code",
      "metadata": {
        "colab": {
          "base_uri": "https://localhost:8080/",
          "height": 204
        },
        "id": "rAkam8bFZQto",
        "outputId": "2e3b990e-e87e-4aa4-f4f8-263e0fd554be"
      },
      "source": [
        "df['source_domain'].value_counts().to_frame()"
      ],
      "execution_count": 87,
      "outputs": [
        {
          "output_type": "execute_result",
          "data": {
            "text/html": [
              "<div>\n",
              "<style scoped>\n",
              "    .dataframe tbody tr th:only-of-type {\n",
              "        vertical-align: middle;\n",
              "    }\n",
              "\n",
              "    .dataframe tbody tr th {\n",
              "        vertical-align: top;\n",
              "    }\n",
              "\n",
              "    .dataframe thead th {\n",
              "        text-align: right;\n",
              "    }\n",
              "</style>\n",
              "<table border=\"1\" class=\"dataframe\">\n",
              "  <thead>\n",
              "    <tr style=\"text-align: right;\">\n",
              "      <th></th>\n",
              "      <th>source_domain</th>\n",
              "    </tr>\n",
              "  </thead>\n",
              "  <tbody>\n",
              "    <tr>\n",
              "      <th>arabic.rt.com</th>\n",
              "      <td>334268</td>\n",
              "    </tr>\n",
              "    <tr>\n",
              "      <th>aljazeera.net</th>\n",
              "      <td>109141</td>\n",
              "    </tr>\n",
              "    <tr>\n",
              "      <th>bbc.com</th>\n",
              "      <td>94734</td>\n",
              "    </tr>\n",
              "    <tr>\n",
              "      <th>arabic.euronews.com</th>\n",
              "      <td>46079</td>\n",
              "    </tr>\n",
              "    <tr>\n",
              "      <th>arabic.cnn.com</th>\n",
              "      <td>16091</td>\n",
              "    </tr>\n",
              "  </tbody>\n",
              "</table>\n",
              "</div>"
            ],
            "text/plain": [
              "                     source_domain\n",
              "arabic.rt.com               334268\n",
              "aljazeera.net               109141\n",
              "bbc.com                      94734\n",
              "arabic.euronews.com          46079\n",
              "arabic.cnn.com               16091"
            ]
          },
          "metadata": {
            "tags": []
          },
          "execution_count": 87
        }
      ]
    },
    {
      "cell_type": "code",
      "metadata": {
        "id": "6Nzi3MCvaZKB"
      },
      "source": [
        "df.to_csv('/content/Arabic-News/Arabic_news.csv', index=False)"
      ],
      "execution_count": 89,
      "outputs": []
    }
  ]
}